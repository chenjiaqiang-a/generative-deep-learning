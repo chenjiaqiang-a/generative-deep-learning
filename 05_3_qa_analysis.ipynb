{
 "cells": [
  {
   "cell_type": "markdown",
   "metadata": {},
   "source": [
    "# 问答生成器 - 验证\n",
    "## 引入"
   ]
  },
  {
   "cell_type": "code",
   "execution_count": 1,
   "metadata": {},
   "outputs": [],
   "source": [
    "import os\n",
    "import pickle as pkl\n",
    "import numpy as np\n",
    "import matplotlib.pyplot as plt\n",
    "\n",
    "import tensorflow as tf\n",
    "\n",
    "from utils.write import collapse_documents, test_data, glove, expand_answers, look_up_token, START_TOKEN, END_TOKEN"
   ]
  },
  {
   "cell_type": "markdown",
   "metadata": {},
   "source": [
    "## 环境参数"
   ]
  },
  {
   "cell_type": "code",
   "execution_count": 2,
   "metadata": {},
   "outputs": [],
   "source": [
    "# run params\n",
    "SECTION = 'write'\n",
    "RUN_ID = '0002'\n",
    "DATA_NAME = 'qa'\n",
    "RUN_FOLDER = 'run/{}/'.format(SECTION)\n",
    "RUN_FOLDER += '_'.join([RUN_ID, DATA_NAME])\n",
    "\n",
    "if not os.path.exists(RUN_FOLDER):\n",
    "    os.makedirs(RUN_FOLDER)\n",
    "    os.makedirs(os.path.join(RUN_FOLDER, 'viz'))\n",
    "    os.makedirs(os.path.join(RUN_FOLDER, 'images'))\n",
    "    os.makedirs(os.path.join(RUN_FOLDER, 'weights'))\n",
    "\n",
    "mode = 'build'  # 'load'"
   ]
  },
  {
   "cell_type": "markdown",
   "metadata": {},
   "source": [
    "## 读取数据"
   ]
  },
  {
   "cell_type": "code",
   "execution_count": 3,
   "metadata": {},
   "outputs": [],
   "source": [
    "#### LOAD DATA ####\n",
    "test_data_gen = test_data()\n",
    "batch = next(test_data_gen)\n",
    "batch = collapse_documents(batch)"
   ]
  },
  {
   "cell_type": "markdown",
   "metadata": {},
   "source": [
    "## 参数及模型"
   ]
  },
  {
   "cell_type": "code",
   "execution_count": 4,
   "metadata": {},
   "outputs": [],
   "source": [
    "VOCAB_SIZE = glove.shape[0]\n",
    "EMBEDDING_DIMENS = glove.shape[1]\n",
    "\n",
    "GRU_UNITS = 100\n",
    "MAX_DOC_SIZE = None\n",
    "MAX_ANSWER_SIZE = None\n",
    "MAX_Q_SIZE = None\n",
    "\n",
    "#### TRAINING MODEL ####\n",
    "document_tokens = tf.keras.Input(shape=(MAX_DOC_SIZE,), name='document_tokens')\n",
    "\n",
    "embedding = tf.keras.layers.Embedding(\n",
    "    input_dim=VOCAB_SIZE,\n",
    "    output_dim=EMBEDDING_DIMENS,\n",
    "    weights=[glove],\n",
    "    mask_zero=True,\n",
    "    name='embedding'\n",
    ")\n",
    "document_emb = embedding(document_tokens)\n",
    "\n",
    "answer_outputs = tf.keras.layers.Bidirectional(\n",
    "    tf.keras.layers.GRU(GRU_UNITS, return_sequences=True),\n",
    "    name='answer_outputs'\n",
    ")(document_emb)\n",
    "answer_tags = tf.keras.layers.Dense(\n",
    "    2, activation='softmax',\n",
    "    name='answer_tags'\n",
    ")(answer_outputs)\n",
    "\n",
    "encoder_input_mask = tf.keras.Input(\n",
    "    shape=(MAX_ANSWER_SIZE, MAX_DOC_SIZE),\n",
    "    name='encoder_input_mask'\n",
    ")\n",
    "encoder_inputs = tf.keras.layers.Lambda(\n",
    "    lambda x: tf.matmul(x[0], x[1]),\n",
    "    name=\"encoder_inputs\"\n",
    ")([encoder_input_mask, answer_outputs])\n",
    "encoder_cell = tf.keras.layers.GRU(\n",
    "    2 * GRU_UNITS, name='encoder_cell'\n",
    ")(encoder_inputs)\n",
    "\n",
    "decoder_inputs = tf.keras.Input(shape=(MAX_Q_SIZE,), name='decoder_inputs')\n",
    "decoder_emb = embedding(decoder_inputs)\n",
    "decoder_emb.trainable = False\n",
    "decoder_cell = tf.keras.layers.GRU(\n",
    "    2 * GRU_UNITS,\n",
    "    return_sequences=True,\n",
    "    name='decoder_cell'\n",
    ")\n",
    "decoder_states = decoder_cell(decoder_emb, initial_state=[encoder_cell])\n",
    "\n",
    "decoder_projection = tf.keras.layers.Dense(\n",
    "    VOCAB_SIZE, name='decoder_projection',\n",
    "    activation='softmax', use_bias=False\n",
    ")\n",
    "decoder_outputs = decoder_projection(decoder_states)\n",
    "\n",
    "total_model = tf.keras.Model([document_tokens, decoder_inputs, encoder_input_mask],\n",
    "                          [answer_tags, decoder_outputs])\n",
    "\n",
    "#### INFERENCE MODEL ####\n",
    "answer_model = tf.keras.Model(document_tokens, [answer_tags])\n",
    "decoder_initial_state_model = tf.keras.Model([document_tokens, encoder_input_mask], [encoder_cell])\n",
    "\n",
    "decoder_inputs_dynamic = tf.keras.Input(shape=(1,), name=\"decoder_inputs_dynamic\")\n",
    "decoder_emb_dynamic = embedding(decoder_inputs_dynamic)\n",
    "decoder_init_state_dynamic = tf.keras.Input(\n",
    "    shape=(2 * GRU_UNITS,),\n",
    "    name='decoder_init_state_dynamic'\n",
    ")  # the embedding of the previous word\n",
    "decoder_states_dynamic = decoder_cell(decoder_emb_dynamic, \n",
    "                                      initial_state=[decoder_init_state_dynamic])\n",
    "decoder_outputs_dynamic = decoder_projection(decoder_states_dynamic)\n",
    "\n",
    "question_model = tf.keras.Model([decoder_inputs_dynamic, decoder_init_state_dynamic],\n",
    "                             [decoder_outputs_dynamic, decoder_states_dynamic])\n"
   ]
  },
  {
   "cell_type": "markdown",
   "metadata": {},
   "source": [
    "## 加载模型参数"
   ]
  },
  {
   "cell_type": "code",
   "execution_count": 5,
   "metadata": {},
   "outputs": [],
   "source": [
    "### LOAD MODEL WEIGHTS ####\n",
    "model_num = 1000\n",
    "\n",
    "total_model.load_weights(os.path.join(RUN_FOLDER, 'weights/weights_{}.h5'.format(model_num)), by_name = True)\n",
    "question_model.load_weights(os.path.join(RUN_FOLDER, 'weights/weights_{}.h5'.format(model_num)), by_name = True)\n",
    "answer_model.load_weights(os.path.join(RUN_FOLDER, 'weights/weights_{}.h5'.format(model_num)), by_name = True)\n",
    "decoder_initial_state_model.load_weights(os.path.join(RUN_FOLDER, 'weights/weights_{}.h5'.format(model_num)), by_name = True)"
   ]
  },
  {
   "cell_type": "markdown",
   "metadata": {},
   "source": [
    "## 答案预测"
   ]
  },
  {
   "cell_type": "code",
   "execution_count": 6,
   "metadata": {},
   "outputs": [
    {
     "data": {
      "text/plain": [
       "<Figure size 1080x360 with 0 Axes>"
      ]
     },
     "execution_count": 6,
     "metadata": {},
     "output_type": "execute_result"
    },
    {
     "name": "stdout",
     "output_type": "stream",
     "text": [
      "Predicted answer probabilities\n"
     ]
    },
    {
     "data": {
      "text/plain": [
       "[<matplotlib.lines.Line2D at 0x22de01d2190>]"
      ]
     },
     "execution_count": 6,
     "metadata": {},
     "output_type": "execute_result"
    },
    {
     "data": {
      "image/png": "[encoded data removed]",
      "text/plain": [
       "<Figure size 1080x360 with 1 Axes>"
      ]
     },
     "metadata": {
      "needs_background": "light"
     },
     "output_type": "display_data"
    },
    {
     "name": "stdout",
     "output_type": "stream",
     "text": [
      "0 the 0.48\n",
      "1 winning 0.07\n",
      "2 goal 0.12\n",
      "3 was 0.0\n",
      "4 scored 0.02\n",
      "5 by 0.0\n",
      "6 23-year-old 0.93\n",
      "7 striker 0.04\n",
      "8 joe 0.43\n",
      "9 bloggs 0.85\n",
      "10 during 0.0\n",
      "11 the 0.0\n",
      "12 match 0.0\n",
      "13 between 0.0\n",
      "14 arsenal 0.0\n",
      "15 and 0.0\n",
      "16 barcelona 0.0\n",
      "17 . 0.0\n",
      "18 arsenal 0.63\n",
      "19 recently 0.02\n",
      "20 signed 0.01\n",
      "21 the 0.02\n",
      "22 striker 0.04\n",
      "23 for 0.0\n",
      "24 50 0.25\n",
      "25 million 0.06\n",
      "26 pounds 0.26\n",
      "27 . 0.0\n",
      "28 the 0.0\n",
      "29 next 0.0\n",
      "30 match 0.0\n",
      "31 is 0.0\n",
      "32 in 0.0\n",
      "33 two 0.01\n",
      "34 weeks 0.0\n",
      "35 time, 0.01\n",
      "36 on 0.0\n",
      "37 july 0.31\n",
      "38 31st 0.07\n",
      "39 2005 0.09\n",
      "40 . 0.0\n",
      "41  0.01\n"
     ]
    }
   ],
   "source": [
    "# answer placement predictions\n",
    "plt.figure(figsize=(15, 5))\n",
    "idx = 0\n",
    "\n",
    "answer_preds = answer_model.predict(batch[\"document_tokens\"])\n",
    "\n",
    "print('Predicted answer probabilities')\n",
    "ax = plt.gca()\n",
    "ax.xaxis.grid(True)\n",
    "plt.plot(answer_preds[idx, :, 1])\n",
    "plt.show()\n",
    "\n",
    "for i in range(len(batch['document_words'][idx])):\n",
    "    print(i, batch['document_words'][idx][i],\n",
    "          np.round(answer_preds[idx][i][1], 2))"
   ]
  },
  {
   "cell_type": "markdown",
   "metadata": {},
   "source": [
    "## 问题预测"
   ]
  },
  {
   "cell_type": "code",
   "execution_count": 7,
   "metadata": {},
   "outputs": [],
   "source": [
    "def generate_question(start_answer, end_answer):\n",
    "    print(f'Chosen answer range {start_answer} : {end_answer}')\n",
    "    print(batch['document_words'][idx][start_answer:(1+end_answer)])\n",
    "    answer_preds = answer_model.predict(batch[\"document_tokens\"])\n",
    "\n",
    "    answers = [[0] * len(answer_preds[idx])]\n",
    "    for i in range(start_answer, end_answer + 1):\n",
    "        answers[0][i] = 1\n",
    "\n",
    "    answer_batch = expand_answers(batch, answers)\n",
    "\n",
    "    next_decoder_init_state = decoder_initial_state_model.predict(\n",
    "        [answer_batch['document_tokens'][[idx]],\n",
    "            answer_batch['answer_masks'][[idx]]]\n",
    "    )\n",
    "\n",
    "    word_tokens = np.array([START_TOKEN])\n",
    "    questions = [look_up_token(START_TOKEN)]\n",
    "\n",
    "    ended = False\n",
    "    counter = 0\n",
    "\n",
    "    while not ended:\n",
    "        counter += 1\n",
    "\n",
    "        word_preds, next_decoder_init_state = question_model.predict(\n",
    "            [word_tokens, next_decoder_init_state]\n",
    "        )\n",
    "\n",
    "        next_decoder_init_state = np.squeeze(next_decoder_init_state, axis=1)\n",
    "        word_tokens = np.argmax(word_preds, 2)[0]\n",
    "\n",
    "        questions.append(look_up_token(word_tokens[0]))\n",
    "\n",
    "        if word_tokens[0] == END_TOKEN or counter > 20:\n",
    "            ended = True\n",
    "\n",
    "    questions = ' '.join(questions)\n",
    "    print('\\nPredicted Question:')\n",
    "    print(questions)"
   ]
  },
  {
   "cell_type": "code",
   "execution_count": 8,
   "metadata": {},
   "outputs": [
    {
     "name": "stdout",
     "output_type": "stream",
     "text": [
      "Chosen answer range 6 : 9\n",
      "['23-year-old', 'striker', 'joe', 'bloggs']\n",
      "\n",
      "Predicted Question:\n",
      "<START> who fell on final climb in final <UNK> as a <UNK> in the <UNK> ? <END>\n"
     ]
    }
   ],
   "source": [
    "generate_question(6, 9)"
   ]
  },
  {
   "cell_type": "code",
   "execution_count": 9,
   "metadata": {},
   "outputs": [
    {
     "name": "stdout",
     "output_type": "stream",
     "text": [
      "Chosen answer range 14 : 16\n",
      "['arsenal', 'and', 'barcelona']\n",
      "\n",
      "Predicted Question:\n",
      "<START> where the atp tournament ? <END>\n"
     ]
    }
   ],
   "source": [
    "generate_question(14, 16)"
   ]
  },
  {
   "cell_type": "code",
   "execution_count": 10,
   "metadata": {},
   "outputs": [
    {
     "name": "stdout",
     "output_type": "stream",
     "text": [
      "Chosen answer range 24 : 26\n",
      "['50', 'million', 'pounds']\n",
      "\n",
      "Predicted Question:\n",
      "<START> record winner christie <END>\n"
     ]
    }
   ],
   "source": [
    "generate_question(24, 26)"
   ]
  },
  {
   "cell_type": "code",
   "execution_count": 11,
   "metadata": {},
   "outputs": [
    {
     "name": "stdout",
     "output_type": "stream",
     "text": [
      "Chosen answer range 37 : 39\n",
      "['july', '31st', '2005']\n",
      "\n",
      "Predicted Question:\n",
      "<START> when is the contest with the start time <END>\n"
     ]
    }
   ],
   "source": [
    "generate_question(37, 39)"
   ]
  }
 ],
 "metadata": {
  "kernelspec": {
   "display_name": "Python 3.8.5 ('TensorFlow')",
   "language": "python",
   "name": "python3"
  },
  "language_info": {
   "codemirror_mode": {
    "name": "ipython",
    "version": 3
   },
   "file_extension": ".py",
   "mimetype": "text/x-python",
   "name": "python",
   "nbconvert_exporter": "python",
   "pygments_lexer": "ipython3",
   "version": "3.8.5"
  },
  "orig_nbformat": 4,
  "vscode": {
   "interpreter": {
    "hash": "d71d38bd0d71aa8fb096966ce492050b4e1d8055a06fdbaefbf5b2c66243d19c"
   }
  }
 },
 "nbformat": 4,
 "nbformat_minor": 2
}
