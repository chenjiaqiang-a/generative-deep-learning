{
 "cells": [
  {
   "cell_type": "code",
   "execution_count": 1,
   "metadata": {},
   "outputs": [],
   "source": [
    "import os\n",
    "import matplotlib.pyplot as plt\n",
    "import numpy as np\n",
    "\n",
    "import tensorflow as tf\n",
    "from music21 import midi, note, stream, duration, converter\n",
    "\n",
    "from models.MuseGAN import MuseGAN\n",
    "from utils.loaders import load_music"
   ]
  },
  {
   "cell_type": "code",
   "execution_count": null,
   "metadata": {},
   "outputs": [],
   "source": [
    "# run params\n",
    "SECTION = 'compose'\n",
    "RUN_ID = '0016'\n",
    "DATA_NAME = 'chorales'\n",
    "FILENAME = 'Jsb16thSeparated.npz'\n",
    "RUN_FOLDER = 'run/{}/'.format(SECTION)\n",
    "RUN_FOLDER += '_'.join([RUN_ID, DATA_NAME])"
   ]
  },
  {
   "cell_type": "code",
   "execution_count": null,
   "metadata": {},
   "outputs": [],
   "source": [
    "BATCH_SIZE = 64\n",
    "n_bars = 2\n",
    "n_steps_per_bar = 16\n",
    "n_pitches = 84\n",
    "n_tracks = 4\n",
    "\n",
    "data_binary, data_ints, raw_data = load_music(DATA_NAME, FILENAME, n_bars, n_steps_per_bar)"
   ]
  },
  {
   "cell_type": "code",
   "execution_count": null,
   "metadata": {},
   "outputs": [],
   "source": [
    "gan = MuseGAN(\n",
    "    input_dim=data_binary.shape[1:],\n",
    "    critic_learning_rate=0.001,\n",
    "    generator_learning_rate=0.001,\n",
    "    optimizer='adam',\n",
    "    grad_weight=10,\n",
    "    z_dim=32,\n",
    "    batch_size=BATCH_SIZE,\n",
    "    n_tracks=n_tracks,\n",
    "    n_bars=n_bars,\n",
    "    n_steps_per_bar=n_steps_per_bar,\n",
    "    n_pitches=n_pitches\n",
    ")\n",
    "\n",
    "gan.load_weights(RUN_FOLDER, None)\n",
    "gan.generator.summary()"
   ]
  },
  {
   "cell_type": "code",
   "execution_count": null,
   "metadata": {},
   "outputs": [],
   "source": [
    "gan.critic.summary()"
   ]
  },
  {
   "cell_type": "code",
   "execution_count": null,
   "metadata": {},
   "outputs": [],
   "source": [
    "chords_noise = np.random.normal(0, 1, (1, gan.z_dim))\n",
    "style_noise = np.random.normal(0, 1, (1, gan.z_dim))\n",
    "melody_noise = np.random.normal(0, 1, (1, gan.n_tracks, gan.z_dim))\n",
    "groove_noise = np.random.normal(0, 1, (1, gan.n_tracks, gan.z_dim))\n",
    "\n",
    "gen_scores = gan.generator.predict(\n",
    "    [chords_noise, style_noise, melody_noise, groove_noise])\n",
    "\n",
    "np.argmax(gen_scores[0, 0, 0:4, :, 3], axis=1)\n",
    "gen_scores[0, 0, 0:4, 60, 3] = 0.02347812\n",
    "\n",
    "filename = 'example'\n",
    "gan.notes_to_midi(RUN_FOLDER, gen_scores, filename)\n",
    "gen_score = converter.parse(os.path.join(\n",
    "    RUN_FOLDER, 'samples/{}.midi'.format(filename)))\n",
    "gen_score.show()\n"
   ]
  },
  {
   "cell_type": "code",
   "execution_count": null,
   "metadata": {},
   "outputs": [],
   "source": [
    "gan.draw_score(gen_scores, 0)"
   ]
  },
  {
   "cell_type": "code",
   "execution_count": null,
   "metadata": {},
   "outputs": [],
   "source": [
    "def find_closest(data_binary, score):\n",
    "    current_dist = 99999999\n",
    "    current_i = -1\n",
    "    for i, d in enumerate(data_binary):\n",
    "        dist = np.sqrt(np.sum(pow((d - score),2)))\n",
    "        if dist < current_dist:\n",
    "            current_i = i\n",
    "            current_dist = dist\n",
    "        \n",
    "    return current_i\n",
    "\n",
    "closest_idx = find_closest(data_binary, gen_scores[0])\n",
    "closest_data = data_binary[[closest_idx]]\n",
    "print(closest_idx)"
   ]
  },
  {
   "cell_type": "code",
   "execution_count": null,
   "metadata": {},
   "outputs": [],
   "source": [
    "filename = 'closest'\n",
    "gan.notes_to_midi(RUN_FOLDER, closest_data,filename)\n",
    "closest_score = converter.parse(os.path.join(RUN_FOLDER, 'samples/{}.midi'.format(filename)))\n",
    "print('original')\n",
    "gen_score.show()\n",
    "print('closest')\n",
    "closest_score.show()"
   ]
  },
  {
   "cell_type": "code",
   "execution_count": null,
   "metadata": {},
   "outputs": [],
   "source": [
    "chords_noise_2 = 5 * np.ones((1, gan.z_dim))\n",
    "chords_scores = gan.generator.predict([chords_noise_2, style_noise, melody_noise, groove_noise])\n",
    "\n",
    "filename = 'changing_chords'\n",
    "gan.notes_to_midi(RUN_FOLDER, chords_scores, filename)\n",
    "chords_score = converter.parse(os.path.join(RUN_FOLDER, 'samples/{}.midi'.format(filename)))\n",
    "print('original')\n",
    "gen_score.show()\n",
    "print('chords noise changed')\n",
    "chords_score.show()"
   ]
  },
  {
   "cell_type": "code",
   "execution_count": null,
   "metadata": {},
   "outputs": [],
   "source": [
    "style_noise_2 = 5 * np.ones((1, gan.z_dim))\n",
    "style_scores = gan.generator.predict([chords_noise, style_noise_2, melody_noise, groove_noise])\n",
    "\n",
    "filename = 'changing_style'\n",
    "gan.notes_to_midi(RUN_FOLDER, style_scores, filename)\n",
    "style_score = converter.parse(os.path.join(RUN_FOLDER, 'samples/{}.midi'.format(filename)))\n",
    "print('original')\n",
    "gen_score.show()\n",
    "print('style noise changed')\n",
    "style_score.show()"
   ]
  },
  {
   "cell_type": "code",
   "execution_count": null,
   "metadata": {},
   "outputs": [],
   "source": [
    "melody_noise_2 = np.copy(melody_noise)\n",
    "melody_noise_2[0,0,:] = 5 * np.ones(gan.z_dim)\n",
    "melody_scores = gan.generator.predict([chords_noise, style_noise, melody_noise_2, groove_noise])\n",
    "\n",
    "filename = 'changing_melody'\n",
    "gan.notes_to_midi(RUN_FOLDER, melody_scores, filename)\n",
    "melody_score = converter.parse(os.path.join(RUN_FOLDER, 'samples/{}.midi'.format(filename)))\n",
    "print('original')\n",
    "gen_score.show()\n",
    "print('melody noise changed')\n",
    "melody_score.show()"
   ]
  },
  {
   "cell_type": "code",
   "execution_count": null,
   "metadata": {},
   "outputs": [],
   "source": [
    "groove_noise_2 = np.copy(groove_noise)\n",
    "groove_noise_2[0,3,:] = 5 * np.ones(gan.z_dim)\n",
    "groove_scores = gan.generator.predict([chords_noise, style_noise, melody_noise, groove_noise_2])\n",
    "\n",
    "filename = 'changing_groove'\n",
    "gan.notes_to_midi(RUN_FOLDER, groove_scores, filename)\n",
    "groove_score = converter.parse(os.path.join(RUN_FOLDER, 'samples/{}.midi'.format(filename)))\n",
    "print('original')\n",
    "gen_score.show()\n",
    "print('groove noise changed')\n",
    "groove_score.show()"
   ]
  }
 ],
 "metadata": {
  "kernelspec": {
   "display_name": "Python 3.8.5 ('TensorFlow')",
   "language": "python",
   "name": "python3"
  },
  "language_info": {
   "codemirror_mode": {
    "name": "ipython",
    "version": 3
   },
   "file_extension": ".py",
   "mimetype": "text/x-python",
   "name": "python",
   "nbconvert_exporter": "python",
   "pygments_lexer": "ipython3",
   "version": "3.8.5"
  },
  "orig_nbformat": 4,
  "vscode": {
   "interpreter": {
    "hash": "d71d38bd0d71aa8fb096966ce492050b4e1d8055a06fdbaefbf5b2c66243d19c"
   }
  }
 },
 "nbformat": 4,
 "nbformat_minor": 2
}
