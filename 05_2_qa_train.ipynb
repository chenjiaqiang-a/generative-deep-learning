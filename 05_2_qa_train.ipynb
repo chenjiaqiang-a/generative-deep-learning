{
 "cells": [
  {
   "cell_type": "code",
   "execution_count": null,
   "metadata": {},
   "outputs": [],
   "source": [
    "import os\n",
    "import pickle as pkl\n",
    "import numpy as np\n",
    "import matplotlib.pyplot as plt\n",
    "\n",
    "import tensorflow as tf\n",
    "import tensorflow.keras as keras\n",
    "\n",
    "from utils.write import training_data, test_data, glove\n"
   ]
  },
  {
   "cell_type": "code",
   "execution_count": null,
   "metadata": {},
   "outputs": [],
   "source": [
    "# run params\n",
    "SECTION = 'write'\n",
    "RUN_ID = '0002'\n",
    "DATA_NAME = 'qa'\n",
    "RUN_FOLDER = 'run/{}/'.format(SECTION)\n",
    "RUN_FOLDER += '_'.join([RUN_ID, DATA_NAME])\n",
    "\n",
    "if not os.path.exists(RUN_FOLDER):\n",
    "    os.makedirs(RUN_FOLDER)\n",
    "    os.makedirs(os.path.join(RUN_FOLDER, 'viz'))\n",
    "    os.makedirs(os.path.join(RUN_FOLDER, 'images'))\n",
    "    os.makedirs(os.path.join(RUN_FOLDER, 'weights'))\n",
    "\n",
    "mode = 'build'  # 'load'"
   ]
  },
  {
   "cell_type": "code",
   "execution_count": null,
   "metadata": {},
   "outputs": [],
   "source": [
    "training_data_gen = training_data()\n",
    "test_data_gen = test_data()\n",
    "\n",
    "t = next(training_data_gen)\n",
    "idx = 0\n",
    "\n",
    "print('document_tokens\\n', t['document_tokens'][idx])\n",
    "print('\\n')\n",
    "print('question_input_tokens\\n', t['question_input_tokens'][idx])\n",
    "print('\\n')\n",
    "print('answer_masks\\n', t['answer_masks'][idx])\n",
    "print('\\n')\n",
    "print('answer_labels\\n', t['answer_labels'][idx])\n",
    "print('\\n')\n",
    "print('question_output_tokens\\n', t['question_output_tokens'][idx])\n"
   ]
  },
  {
   "cell_type": "code",
   "execution_count": null,
   "metadata": {},
   "outputs": [],
   "source": [
    "# GloVe\n",
    "VOCAB_SIZE = glove.shape[0]\n",
    "EMBEDDING_DIMENS = glove.shape[1]\n",
    "\n",
    "print('GLOVE')\n",
    "print('VOCAB_SIZE: ', VOCAB_SIZE)\n",
    "print('EMBEDDING_DIMENS: ', EMBEDDING_DIMENS)"
   ]
  },
  {
   "cell_type": "code",
   "execution_count": null,
   "metadata": {},
   "outputs": [],
   "source": [
    "GRU_UNITS = 100\n",
    "MAX_DOC_SIZE = None\n",
    "MAX_ANSWER_SIZE = None\n",
    "MAX_Q_SIZE = None\n",
    "\n",
    "document_tokens = keras.Input(shape=(MAX_DOC_SIZE,), name='document_tokens')\n",
    "\n",
    "embedding = keras.layers.Embedding(\n",
    "    input_dim=VOCAB_SIZE,\n",
    "    output_dim=EMBEDDING_DIMENS,\n",
    "    weights=[glove],\n",
    "    mask_zero=True,\n",
    "    name='embedding'\n",
    ")\n",
    "document_emb = embedding(document_tokens)\n",
    "\n",
    "answer_outputs = keras.layers.Bidirectional(\n",
    "    keras.layers.GRU(GRU_UNITS, return_sequences=True),\n",
    "    name='answer_outputs'\n",
    ")(document_emb)\n",
    "answer_tags = keras.layers.Dense(\n",
    "    2, activation='softmax',\n",
    "    name='answer_tags'\n",
    ")(answer_outputs)\n",
    "\n",
    "encoder_input_mask = keras.Input(\n",
    "    shape=(MAX_ANSWER_SIZE, MAX_DOC_SIZE),\n",
    "    name='encoder_input_mask'\n",
    ")\n",
    "encoder_inputs = keras.layers.Lambda(\n",
    "    lambda x: tf.matmul(x[0], x[1]),\n",
    "    name=\"encoder_inputs\"\n",
    ")([encoder_input_mask, answer_outputs])\n",
    "encoder_cell = keras.layers.GRU(\n",
    "    2 * GRU_UNITS, name='encoder_cell'\n",
    ")(encoder_inputs)\n",
    "\n",
    "decoder_inputs = keras.Input(shape=(MAX_Q_SIZE,), name='decoder_inputs')\n",
    "decoder_emb = embedding(decoder_inputs)\n",
    "decoder_emb.trainable = False\n",
    "decoder_cell = keras.layers.GRU(\n",
    "    2 * GRU_UNITS,\n",
    "    return_sequences=True,\n",
    "    name='decoder_cell'\n",
    ")\n",
    "decoder_states = decoder_cell(decoder_emb, initial_state=[encoder_cell])\n",
    "\n",
    "decoder_projection = keras.layers.Dense(\n",
    "    VOCAB_SIZE, name='decoder_projection',\n",
    "    activation='softmax', use_bias=False\n",
    ")\n",
    "decoder_outputs = decoder_projection(decoder_states)\n",
    "\n",
    "total_model = keras.Model([document_tokens, decoder_inputs, encoder_input_mask],\n",
    "                          [answer_tags, decoder_outputs])\n",
    "keras.utils.plot_model(total_model, to_file='model.png', show_shapes=True)\n",
    "\n",
    "print(decoder_emb.shape)\n",
    "total_model.summary()"
   ]
  },
  {
   "cell_type": "code",
   "execution_count": null,
   "metadata": {},
   "outputs": [],
   "source": [
    "answer_model = keras.Model(document_tokens, [answer_tags])\n",
    "decoder_initial_state_model = keras.Model([document_tokens, encoder_input_mask], [encoder_cell])"
   ]
  },
  {
   "cell_type": "code",
   "execution_count": null,
   "metadata": {},
   "outputs": [],
   "source": [
    "#### INFERENCE MODEL ####\n",
    "decoder_inputs_dynamic = keras.Input(shape=(1,), name=\"decoder_inputs_dynamic\")\n",
    "decoder_emb_dynamic = embedding(decoder_inputs_dynamic)\n",
    "decoder_init_state_dynamic = keras.Input(\n",
    "    shape=(2 * GRU_UNITS,),\n",
    "    name='decoder_init_state_dynamic'\n",
    ")  # the embedding of the previous word\n",
    "decoder_states_dynamic = decoder_cell(decoder_emb_dynamic, \n",
    "                                      initial_state=[decoder_init_state_dynamic])\n",
    "decoder_outputs_dynamic = decoder_projection(decoder_states_dynamic)\n",
    "\n",
    "question_model = keras.Model([decoder_inputs_dynamic, decoder_init_state_dynamic],\n",
    "                             [decoder_outputs_dynamic, decoder_states_dynamic])\n"
   ]
  },
  {
   "cell_type": "code",
   "execution_count": null,
   "metadata": {},
   "outputs": [],
   "source": [
    "#### COMPILE TRAINING MODEL ####\n",
    "opti = keras.optimizers.Adam(lr=0.001)\n",
    "total_model.compile(loss=['sparse_categorical_crossentropy','sparse_categorical_crossentropy'],\n",
    "                    optimizer=opti, loss_weights=[1, 1])\n"
   ]
  },
  {
   "cell_type": "code",
   "execution_count": null,
   "metadata": {},
   "outputs": [],
   "source": [
    "training_loss_history = []\n",
    "test_loss_history = []\n",
    "\n",
    "EPOCHS = 2000\n",
    "start_epoch = 1\n",
    "\n",
    "for epoch in range(start_epoch, start_epoch + EPOCHS + 1):\n",
    "    print(\"Epoch {0}\".format(epoch))\n",
    "\n",
    "    for i, batch in enumerate(training_data()):\n",
    "        val_batch = next(test_data_gen, None)\n",
    "\n",
    "        if val_batch is None:\n",
    "            test_data_gen = test_data()\n",
    "            val_batch = next(test_data_gen, None)\n",
    "\n",
    "        training_loss = total_model.train_on_batch(\n",
    "            [batch['document_tokens'], batch['question_input_tokens'], batch['answer_masks']],\n",
    "            [np.expand_dims(batch['answer_labels'], axis=-1), np.expand_dims(batch['question_output_tokens'], axis=-1)]\n",
    "        )\n",
    "\n",
    "        test_loss = total_model.test_on_batch(\n",
    "            [val_batch['document_tokens'], val_batch['question_input_tokens'], val_batch['answer_masks']],\n",
    "            [np.expand_dims(val_batch['answer_labels'], axis=-1), np.expand_dims(val_batch['question_output_tokens'], axis=-1)]\n",
    "        )\n",
    "\n",
    "        training_loss_history.append(training_loss)\n",
    "        test_loss_history.append(test_loss)\n",
    "\n",
    "        print(\"{}: Train Loss: {} | Test Loss: {}\".format(\n",
    "            i, training_loss, test_loss))\n",
    "\n",
    "    total_model.save_weights(os.path.join(RUN_FOLDER, 'weights/weights_{}.h5'.format(epoch)))"
   ]
  },
  {
   "cell_type": "code",
   "execution_count": null,
   "metadata": {},
   "outputs": [],
   "source": [
    "#### SHOW LOSSES ####\n",
    "plt.plot(np.array(training_loss_history)[:,0])\n",
    "plt.plot(np.array(test_loss_history)[:,0])\n",
    "plt.show()\n",
    "        \n",
    "pkl.dump([training_loss_history, test_loss_history], open(os.path.join(RUN_FOLDER, 'weights/histories.pkl'), 'wb'))"
   ]
  }
 ],
 "metadata": {
  "kernelspec": {
   "display_name": "Python 3.8.5 ('TensorFlow')",
   "language": "python",
   "name": "python3"
  },
  "language_info": {
   "name": "python",
   "version": "3.8.5"
  },
  "orig_nbformat": 4,
  "vscode": {
   "interpreter": {
    "hash": "d71d38bd0d71aa8fb096966ce492050b4e1d8055a06fdbaefbf5b2c66243d19c"
   }
  }
 },
 "nbformat": 4,
 "nbformat_minor": 2
}
