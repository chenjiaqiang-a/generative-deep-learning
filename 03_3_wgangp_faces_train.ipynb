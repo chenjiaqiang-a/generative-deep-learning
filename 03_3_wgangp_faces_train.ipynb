{
 "cells": [
  {
   "cell_type": "markdown",
   "metadata": {},
   "source": [
    "# WGAN-GP训练\n",
    "## 引入"
   ]
  },
  {
   "cell_type": "code",
   "execution_count": 1,
   "metadata": {},
   "outputs": [
    {
     "name": "stdout",
     "output_type": "stream",
     "text": [
      "The Zen of Python, by Tim Peters\n",
      "\n",
      "Beautiful is better than ugly.\n",
      "Explicit is better than implicit.\n",
      "Simple is better than complex.\n",
      "Complex is better than complicated.\n",
      "Flat is better than nested.\n",
      "Sparse is better than dense.\n",
      "Readability counts.\n",
      "Special cases aren't special enough to break the rules.\n",
      "Although practicality beats purity.\n",
      "Errors should never pass silently.\n",
      "Unless explicitly silenced.\n",
      "In the face of ambiguity, refuse the temptation to guess.\n",
      "There should be one-- and preferably only one --obvious way to do it.\n",
      "Although that way may not be obvious at first unless you're Dutch.\n",
      "Now is better than never.\n",
      "Although never is often better than *right* now.\n",
      "If the implementation is hard to explain, it's a bad idea.\n",
      "If the implementation is easy to explain, it may be a good idea.\n",
      "Namespaces are one honking great idea -- let's do more of those!\n"
     ]
    }
   ],
   "source": [
    "%matplotlib inline\n",
    "import os\n",
    "import pickle\n",
    "import matplotlib.pyplot as plt\n",
    "\n",
    "from models import WGANGP\n",
    "from utils import load_celeb"
   ]
  },
  {
   "cell_type": "code",
   "execution_count": 2,
   "metadata": {},
   "outputs": [],
   "source": [
    "SECTION = 'gan'\n",
    "RUN_ID = '0003'\n",
    "DATA_NAME = 'celeb'\n",
    "RUN_FOLDER = 'run/{}/'.format(SECTION)\n",
    "RUN_FOLDER += '_'.join([RUN_ID, DATA_NAME])\n",
    "\n",
    "if not os.path.exists(RUN_FOLDER):\n",
    "    os.makedirs(RUN_FOLDER)\n",
    "    os.makedirs(os.path.join(RUN_FOLDER, 'viz'))\n",
    "    os.makedirs(os.path.join(RUN_FOLDER, 'images'))\n",
    "    os.makedirs(os.path.join(RUN_FOLDER, 'weights'))\n",
    "\n",
    "MODE = 'build' # 'load'"
   ]
  },
  {
   "cell_type": "code",
   "execution_count": 3,
   "metadata": {},
   "outputs": [
    {
     "name": "stdout",
     "output_type": "stream",
     "text": [
      "Found 202599 images belonging to 1 classes.\n"
     ]
    },
    {
     "data": {
      "text/plain": [
       "array([[[-0.08235294, -0.08235294, -0.08235294],\n",
       "        [-0.08235294, -0.08235294, -0.08235294],\n",
       "        [-0.08235294, -0.08235294, -0.08235294],\n",
       "        ...,\n",
       "        [ 0.16862746,  0.18431373,  0.16078432],\n",
       "        [ 0.1764706 ,  0.19215687,  0.16862746],\n",
       "        [ 0.18431373,  0.22352941,  0.19215687]],\n",
       "\n",
       "       [[-0.08235294, -0.08235294, -0.08235294],\n",
       "        [-0.08235294, -0.08235294, -0.08235294],\n",
       "        [-0.08235294, -0.08235294, -0.08235294],\n",
       "        ...,\n",
       "        [ 0.16862746,  0.18431373,  0.16078432],\n",
       "        [ 0.1764706 ,  0.19215687,  0.16862746],\n",
       "        [ 0.18431373,  0.2       ,  0.1764706 ]],\n",
       "\n",
       "       [[-0.09019608, -0.09019608, -0.09019608],\n",
       "        [-0.08235294, -0.08235294, -0.08235294],\n",
       "        [-0.07450981, -0.07450981, -0.07450981],\n",
       "        ...,\n",
       "        [ 0.16862746,  0.18431373,  0.16078432],\n",
       "        [ 0.1764706 ,  0.19215687,  0.16862746],\n",
       "        [ 0.19215687,  0.19215687,  0.1764706 ]],\n",
       "\n",
       "       ...,\n",
       "\n",
       "       [[-0.25490198, -0.52156866, -0.5137255 ],\n",
       "        [-0.14509805, -0.45882353, -0.4509804 ],\n",
       "        [-0.13725491, -0.49803922, -0.48235294],\n",
       "        ...,\n",
       "        [ 0.08235294, -0.01960784, -0.09019608],\n",
       "        [ 0.12941177,  0.02745098, -0.04313726],\n",
       "        [-0.2       , -0.2784314 , -0.35686275]],\n",
       "\n",
       "       [[-0.20784314, -0.45882353, -0.4509804 ],\n",
       "        [-0.1764706 , -0.49019608, -0.48235294],\n",
       "        [-0.13725491, -0.48235294, -0.4745098 ],\n",
       "        ...,\n",
       "        [ 0.05098039, -0.05098039, -0.12156863],\n",
       "        [ 0.18431373,  0.08235294,  0.01176471],\n",
       "        [-0.3647059 , -0.44313726, -0.5137255 ]],\n",
       "\n",
       "       [[-0.09803922, -0.34117648, -0.3019608 ],\n",
       "        [-0.21568628, -0.52156866, -0.49803922],\n",
       "        [-0.20784314, -0.5372549 , -0.52156866],\n",
       "        ...,\n",
       "        [-0.05882353, -0.16078432, -0.23137255],\n",
       "        [-0.00392157, -0.10588235, -0.1764706 ],\n",
       "        [-0.44313726, -0.5294118 , -0.5764706 ]]], dtype=float32)"
      ]
     },
     "execution_count": 3,
     "metadata": {},
     "output_type": "execute_result"
    },
    {
     "data": {
      "text/plain": [
       "<matplotlib.image.AxesImage at 0x22457cebe50>"
      ]
     },
     "execution_count": 3,
     "metadata": {},
     "output_type": "execute_result"
    },
    {
     "data": {
      "image/png": "[encoded data removed]",
      "text/plain": [
       "<Figure size 432x288 with 1 Axes>"
      ]
     },
     "metadata": {
      "needs_background": "light"
     },
     "output_type": "display_data"
    }
   ],
   "source": [
    "BATCH_SIZE = 64\n",
    "IMAGE_SIZE = 64\n",
    "\n",
    "x_train = load_celeb(DATA_NAME, IMAGE_SIZE, BATCH_SIZE)\n",
    "x_train[0][0][0]\n",
    "plt.imshow((x_train[0][0][0]+1)/2)"
   ]
  },
  {
   "cell_type": "code",
   "execution_count": 5,
   "metadata": {},
   "outputs": [],
   "source": [
    "gan = WGANGP(\n",
    "    input_dim=(IMAGE_SIZE, IMAGE_SIZE, 3),\n",
    "    critic_conv_filters=[64, 128, 256, 512],\n",
    "    critic_conv_kernel_size=[5, 5, 5, 5],\n",
    "    critic_conv_strides=[2, 2, 2, 2],\n",
    "    critic_batch_norm_momentum=None,\n",
    "    critic_activation='leaky_relu',\n",
    "    critic_dropout_rate=None,\n",
    "    critic_learning_rate=0.0002,\n",
    "    generator_initial_dense_layer_size=(4, 4, 512),\n",
    "    generator_upsample=[1, 1, 1, 1],\n",
    "    generator_conv_filters=[256, 128, 64, 3],\n",
    "    generator_conv_kernel_size=[5, 5, 5, 5],\n",
    "    generator_conv_strides=[2, 2, 2, 2],\n",
    "    generator_batch_norm_momentum=0.9,\n",
    "    generator_activation='leaky_relu',\n",
    "    generator_dropout_rate=None,\n",
    "    generator_learning_rate=0.0002,\n",
    "    optimizer='adam',\n",
    "    grad_weight = 10,\n",
    "    z_dim=100,\n",
    "    batch_size=BATCH_SIZE\n",
    ")\n",
    "\n",
    "if MODE == 'build':\n",
    "    gan.save(RUN_FOLDER)\n",
    "else:\n",
    "    gan.load_weights(os.path.join(RUN_FOLDER, 'weights/weights.h5'))"
   ]
  },
  {
   "cell_type": "code",
   "execution_count": 6,
   "metadata": {},
   "outputs": [
    {
     "name": "stdout",
     "output_type": "stream",
     "text": [
      "Model: \"model\"\n",
      "_________________________________________________________________\n",
      "Layer (type)                 Output Shape              Param #   \n",
      "=================================================================\n",
      "critic_input (InputLayer)    [(None, 64, 64, 3)]       0         \n",
      "_________________________________________________________________\n",
      "critic_conv_0 (Conv2D)       multiple                  4864      \n",
      "_________________________________________________________________\n",
      "leaky_re_lu (LeakyReLU)      multiple                  0         \n",
      "_________________________________________________________________\n",
      "critic_conv_1 (Conv2D)       multiple                  204928    \n",
      "_________________________________________________________________\n",
      "leaky_re_lu_1 (LeakyReLU)    multiple                  0         \n",
      "_________________________________________________________________\n",
      "critic_conv_2 (Conv2D)       multiple                  819456    \n",
      "_________________________________________________________________\n",
      "leaky_re_lu_2 (LeakyReLU)    multiple                  0         \n",
      "_________________________________________________________________\n",
      "critic_conv_3 (Conv2D)       multiple                  3277312   \n",
      "_________________________________________________________________\n",
      "leaky_re_lu_3 (LeakyReLU)    multiple                  0         \n",
      "_________________________________________________________________\n",
      "flatten (Flatten)            multiple                  0         \n",
      "_________________________________________________________________\n",
      "dense (Dense)                multiple                  8193      \n",
      "=================================================================\n",
      "Total params: 4,314,753\n",
      "Trainable params: 4,314,753\n",
      "Non-trainable params: 0\n",
      "_________________________________________________________________\n"
     ]
    }
   ],
   "source": [
    "gan.critic.summary()"
   ]
  },
  {
   "cell_type": "code",
   "execution_count": 7,
   "metadata": {},
   "outputs": [
    {
     "name": "stdout",
     "output_type": "stream",
     "text": [
      "Model: \"model_1\"\n",
      "_________________________________________________________________\n",
      "Layer (type)                 Output Shape              Param #   \n",
      "=================================================================\n",
      "generator_input (InputLayer) [(None, 100)]             0         \n",
      "_________________________________________________________________\n",
      "dense_1 (Dense)              (None, 8192)              827392    \n",
      "_________________________________________________________________\n",
      "batch_normalization (BatchNo (None, 8192)              32768     \n",
      "_________________________________________________________________\n",
      "leaky_re_lu_4 (LeakyReLU)    (None, 8192)              0         \n",
      "_________________________________________________________________\n",
      "reshape (Reshape)            (None, 4, 4, 512)         0         \n",
      "_________________________________________________________________\n",
      "generator_conv_0 (Conv2DTran (None, 8, 8, 256)         3277056   \n",
      "_________________________________________________________________\n",
      "batch_normalization_1 (Batch (None, 8, 8, 256)         1024      \n",
      "_________________________________________________________________\n",
      "leaky_re_lu_5 (LeakyReLU)    (None, 8, 8, 256)         0         \n",
      "_________________________________________________________________\n",
      "generator_conv_1 (Conv2DTran (None, 16, 16, 128)       819328    \n",
      "_________________________________________________________________\n",
      "batch_normalization_2 (Batch (None, 16, 16, 128)       512       \n",
      "_________________________________________________________________\n",
      "leaky_re_lu_6 (LeakyReLU)    (None, 16, 16, 128)       0         \n",
      "_________________________________________________________________\n",
      "generator_conv_2 (Conv2DTran (None, 32, 32, 64)        204864    \n",
      "_________________________________________________________________\n",
      "batch_normalization_3 (Batch (None, 32, 32, 64)        256       \n",
      "_________________________________________________________________\n",
      "leaky_re_lu_7 (LeakyReLU)    (None, 32, 32, 64)        0         \n",
      "_________________________________________________________________\n",
      "generator_conv_3 (Conv2DTran (None, 64, 64, 3)         4803      \n",
      "_________________________________________________________________\n",
      "activation (Activation)      (None, 64, 64, 3)         0         \n",
      "=================================================================\n",
      "Total params: 5,168,003\n",
      "Trainable params: 5,150,723\n",
      "Non-trainable params: 17,280\n",
      "_________________________________________________________________\n"
     ]
    }
   ],
   "source": [
    "gan.generator.summary()"
   ]
  },
  {
   "cell_type": "code",
   "execution_count": null,
   "metadata": {},
   "outputs": [],
   "source": [
    "EPOCHS = 6000\n",
    "PRINT_EVERY_N_BATCHES = 5\n",
    "N_CRITIC = 5\n",
    "BATCH_SIZE = 64\n",
    "\n",
    "gan.train(     \n",
    "    x_train,\n",
    "    batch_size=BATCH_SIZE,\n",
    "    epochs=EPOCHS,\n",
    "    run_folder=RUN_FOLDER,\n",
    "    print_every_n_batches=PRINT_EVERY_N_BATCHES,\n",
    "    n_critic=N_CRITIC,\n",
    "    using_generator=True\n",
    ")"
   ]
  },
  {
   "cell_type": "code",
   "execution_count": null,
   "metadata": {},
   "outputs": [],
   "source": [
    "fig = plt.figure()\n",
    "plt.plot([x[0] for x in gan.d_losses], color='black', linewidth=0.25)\n",
    "\n",
    "plt.plot([x[1] for x in gan.d_losses], color='green', linewidth=0.25)\n",
    "plt.plot([x[2] for x in gan.d_losses], color='red', linewidth=0.25)\n",
    "plt.plot(gan.g_losses, color='orange', linewidth=0.25)\n",
    "\n",
    "plt.xlabel('batch', fontsize=18)\n",
    "plt.ylabel('loss', fontsize=16)\n",
    "\n",
    "plt.xlim(0, 2000)\n",
    "\n",
    "plt.show()"
   ]
  }
 ],
 "metadata": {
  "interpreter": {
   "hash": "d71d38bd0d71aa8fb096966ce492050b4e1d8055a06fdbaefbf5b2c66243d19c"
  },
  "kernelspec": {
   "display_name": "Python 3.8.5 ('TensorFlow')",
   "language": "python",
   "name": "python3"
  },
  "language_info": {
   "codemirror_mode": {
    "name": "ipython",
    "version": 3
   },
   "file_extension": ".py",
   "mimetype": "text/x-python",
   "name": "python",
   "nbconvert_exporter": "python",
   "pygments_lexer": "ipython3",
   "version": "3.8.5"
  },
  "orig_nbformat": 4
 },
 "nbformat": 4,
 "nbformat_minor": 2
}
